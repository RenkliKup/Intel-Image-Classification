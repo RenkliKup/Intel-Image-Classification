{
 "cells": [
  {
   "cell_type": "code",
   "execution_count": 9,
   "metadata": {},
   "outputs": [],
   "source": [
    "import numpy as np\n",
    "from pathlib import Path\n",
    "import os\n",
    "import cv2\n",
    "from tqdm import tqdm\n",
    "import matplotlib.pyplot as plt\n",
    "from tensorflow.keras.preprocessing.image import ImageDataGenerator \n",
    "from tensorflow.keras.layers import Conv2D,MaxPooling2D,Dense,Flatten,Dropout\n",
    "from tensorflow.keras.models import Sequential\n",
    "from tensorflow.keras.utils import to_categorical\n",
    "from tensorflow.keras import regularizers"
   ]
  },
  {
   "cell_type": "code",
   "execution_count": 10,
   "metadata": {},
   "outputs": [],
   "source": [
    "\n",
    "dir1=\"./seg_train/seg_train/\"\n",
    "dir2=\"./seg_test/seg_test/\"\n",
    "dir3=\"./seg_pred/seg_pred/\"\n",
    "labels=os.listdir(dir1)\n",
    "label_dict1={}\n",
    "label_dict2={}\n",
    "\n",
    "for i,j in enumerate(labels):\n",
    "    label_dict1[i]=j\n",
    "for i,j in enumerate(labels):\n",
    "    label_dict2[j]=i\n",
    "def imgPath(dir):\n",
    "    a=[i for i in Path(dir).rglob(\"*.jpg\")]\n",
    "    return a\n",
    "def loadImg(path):\n",
    "    x=[]\n",
    "    label=[]\n",
    "    \n",
    "        \n",
    "    for i in tqdm(range(len(path))):\n",
    "        path1=\".\\\\\"+str(path[i])\n",
    "        \n",
    "        img=cv2.imread(path1)\n",
    "        \n",
    "        img=cv2.cvtColor(img,cv2.COLOR_BGR2GRAY)\n",
    "        img=cv2.resize(img,(100,100))\n",
    "        img=img/255\n",
    "        x.append(img)\n",
    "        label.append(label_dict2[path1.split(\"\\\\\")[-2]])\n",
    "    x=np.array(x).reshape(-1,100,100,1)\n",
    "    label=to_categorical(label)\n",
    "    return x,np.array(label)\n",
    "\n",
    "    \n",
    "\n"
   ]
  },
  {
   "cell_type": "code",
   "execution_count": 11,
   "metadata": {},
   "outputs": [
    {
     "name": "stderr",
     "output_type": "stream",
     "text": [
      "100%|███████████████████████████████████████████████████████████████████████████| 14034/14034 [00:21<00:00, 645.27it/s]\n",
      "100%|████████████████████████████████████████████████████████████████████████████| 3000/3000 [00:01<00:00, 1618.12it/s]\n"
     ]
    }
   ],
   "source": [
    "x,label=loadImg(imgPath(dir1))\n",
    "x_test,label_test=loadImg(imgPath(dir2))"
   ]
  },
  {
   "cell_type": "code",
   "execution_count": 84,
   "metadata": {},
   "outputs": [],
   "source": [
    "datagen = ImageDataGenerator(\n",
    "        featurewise_center=False,  # set input mean to 0 over the dataset\n",
    "        samplewise_center=False,  # set each sample mean to 0\n",
    "        featurewise_std_normalization=False,  # divide inputs by std of the dataset\n",
    "        samplewise_std_normalization=False,  # divide each input by its std\n",
    "        zca_whitening=False,  # apply ZCA whitening\n",
    "        rotation_range=13,  # randomly rotate images in the range (degrees, 0 to 180)\n",
    "        zoom_range = 0.4, # Randomly zoom image \n",
    "        width_shift_range=0.6,  # randomly shift images horizontally (fraction of total width)\n",
    "        height_shift_range=0.7,  # randomly shift images vertically (fraction of total height)\n",
    "        horizontal_flip=True,  # randomly flip images\n",
    "        vertical_flip=True)  # randomly flip images"
   ]
  },
  {
   "cell_type": "code",
   "execution_count": 57,
   "metadata": {},
   "outputs": [],
   "source": [
    "def model1():\n",
    "    model=Sequential()\n",
    "    model.add(Conv2D(64,(3,3),padding=\"valid\",strides=(3,3),input_shape=(100,100,1),activation=\"relu\"))\n",
    "    model.add(MaxPooling2D((2,2),padding=\"same\"))\n",
    "    model.add(Conv2D(128,(3,3),padding=\"same\",strides=(3,3),activation=\"relu\"))\n",
    "    model.add(MaxPooling2D((2,2),padding=\"same\"))\n",
    "    model.add(Dropout(0.4))\n",
    "    model.add(Conv2D(256,(3,3),padding=\"same\",strides=(3,3),activation=\"relu\"))\n",
    "    model.add(MaxPooling2D((2,2),padding=\"same\"))\n",
    "    model.add(Dropout(0.5))    \n",
    "    model.add(Conv2D(512,(3,3),padding=\"same\",strides=(3,3),activation=\"relu\")) \n",
    "    model.add(Flatten())\n",
    "    model.add(Dense(512,kernel_regularizer=regularizers.l2(0.001),activation=\"relu\"))\n",
    "    model.add(Dropout(0.5))\n",
    "    model.add(Dense(1024,kernel_regularizer=regularizers.l2(0.001),activation=\"relu\"))\n",
    "    model.add(Dense(6,activation=\"softmax\"))\n",
    "    return model\n",
    "              "
   ]
  },
  {
   "cell_type": "code",
   "execution_count": 58,
   "metadata": {},
   "outputs": [],
   "source": [
    "model2=model1()\n"
   ]
  },
  {
   "cell_type": "code",
   "execution_count": 59,
   "metadata": {},
   "outputs": [],
   "source": [
    "model2.compile(optimizer=\"Adam\",loss=\"categorical_crossentropy\",metrics=[\"accuracy\"])"
   ]
  },
  {
   "cell_type": "code",
   "execution_count": 60,
   "metadata": {
    "scrolled": true
   },
   "outputs": [
    {
     "name": "stdout",
     "output_type": "stream",
     "text": [
      "Epoch 1/42\n",
      "110/110 [==============================] - 18s 115ms/step - loss: 1.8673 - accuracy: 0.3178 - val_loss: 1.3728 - val_accuracy: 0.4417\n",
      "Epoch 2/42\n",
      "110/110 [==============================] - 12s 113ms/step - loss: 1.3078 - accuracy: 0.4853 - val_loss: 1.1445 - val_accuracy: 0.5573\n",
      "Epoch 3/42\n",
      "110/110 [==============================] - 12s 110ms/step - loss: 1.1837 - accuracy: 0.5379 - val_loss: 1.0878 - val_accuracy: 0.5877\n",
      "Epoch 4/42\n",
      "110/110 [==============================] - 12s 109ms/step - loss: 1.1424 - accuracy: 0.5559 - val_loss: 1.0445 - val_accuracy: 0.6003\n",
      "Epoch 5/42\n",
      "110/110 [==============================] - 12s 110ms/step - loss: 1.0937 - accuracy: 0.5751 - val_loss: 1.0384 - val_accuracy: 0.5973\n",
      "Epoch 6/42\n",
      "110/110 [==============================] - 12s 112ms/step - loss: 1.0730 - accuracy: 0.5871 - val_loss: 0.9953 - val_accuracy: 0.6267\n",
      "Epoch 7/42\n",
      "110/110 [==============================] - 13s 114ms/step - loss: 1.0613 - accuracy: 0.5858 - val_loss: 1.0121 - val_accuracy: 0.6097\n",
      "Epoch 8/42\n",
      "110/110 [==============================] - 12s 111ms/step - loss: 1.0421 - accuracy: 0.6034 - val_loss: 0.9933 - val_accuracy: 0.6093\n",
      "Epoch 9/42\n",
      "110/110 [==============================] - 12s 112ms/step - loss: 1.0328 - accuracy: 0.6032 - val_loss: 0.9385 - val_accuracy: 0.6460\n",
      "Epoch 10/42\n",
      "110/110 [==============================] - 12s 113ms/step - loss: 0.9958 - accuracy: 0.6171 - val_loss: 0.9229 - val_accuracy: 0.6370\n",
      "Epoch 11/42\n",
      "110/110 [==============================] - 12s 112ms/step - loss: 0.9976 - accuracy: 0.6226 - val_loss: 0.9336 - val_accuracy: 0.6443\n",
      "Epoch 12/42\n",
      "110/110 [==============================] - 13s 115ms/step - loss: 0.9897 - accuracy: 0.6265 - val_loss: 0.9289 - val_accuracy: 0.6443\n",
      "Epoch 13/42\n",
      "110/110 [==============================] - 12s 113ms/step - loss: 0.9806 - accuracy: 0.6333 - val_loss: 0.9109 - val_accuracy: 0.6573\n",
      "Epoch 14/42\n",
      "110/110 [==============================] - 12s 113ms/step - loss: 0.9608 - accuracy: 0.6419 - val_loss: 0.8634 - val_accuracy: 0.6807\n",
      "Epoch 15/42\n",
      "110/110 [==============================] - 14s 123ms/step - loss: 0.9448 - accuracy: 0.6472 - val_loss: 0.8861 - val_accuracy: 0.6717\n",
      "Epoch 16/42\n",
      "110/110 [==============================] - 15s 134ms/step - loss: 0.9421 - accuracy: 0.6522 - val_loss: 0.8501 - val_accuracy: 0.6970\n",
      "Epoch 17/42\n",
      "110/110 [==============================] - 16s 141ms/step - loss: 0.9326 - accuracy: 0.6587 - val_loss: 0.8856 - val_accuracy: 0.6793\n",
      "Epoch 18/42\n",
      "110/110 [==============================] - 13s 121ms/step - loss: 0.9217 - accuracy: 0.6629 - val_loss: 0.8234 - val_accuracy: 0.7063\n",
      "Epoch 19/42\n",
      "110/110 [==============================] - 13s 121ms/step - loss: 0.9052 - accuracy: 0.6693 - val_loss: 0.8315 - val_accuracy: 0.7017\n",
      "Epoch 20/42\n",
      "110/110 [==============================] - 12s 108ms/step - loss: 0.8881 - accuracy: 0.6795 - val_loss: 0.8040 - val_accuracy: 0.7020\n",
      "Epoch 21/42\n",
      "110/110 [==============================] - 13s 114ms/step - loss: 0.8957 - accuracy: 0.6804 - val_loss: 0.8527 - val_accuracy: 0.6877\n",
      "Epoch 22/42\n",
      "110/110 [==============================] - 13s 115ms/step - loss: 0.8809 - accuracy: 0.6792 - val_loss: 0.8345 - val_accuracy: 0.6990\n",
      "Epoch 23/42\n",
      "110/110 [==============================] - 13s 119ms/step - loss: 0.8797 - accuracy: 0.6873 - val_loss: 0.7780 - val_accuracy: 0.7137\n",
      "Epoch 24/42\n",
      "110/110 [==============================] - 13s 119ms/step - loss: 0.8601 - accuracy: 0.6918 - val_loss: 0.7791 - val_accuracy: 0.7157\n",
      "Epoch 25/42\n",
      "110/110 [==============================] - 12s 112ms/step - loss: 0.8387 - accuracy: 0.6988 - val_loss: 0.8027 - val_accuracy: 0.7087\n",
      "Epoch 26/42\n",
      "110/110 [==============================] - 12s 109ms/step - loss: 0.8645 - accuracy: 0.6929 - val_loss: 0.7775 - val_accuracy: 0.7257\n",
      "Epoch 27/42\n",
      "110/110 [==============================] - 12s 110ms/step - loss: 0.8422 - accuracy: 0.6969 - val_loss: 0.7414 - val_accuracy: 0.7333\n",
      "Epoch 28/42\n",
      "110/110 [==============================] - 13s 115ms/step - loss: 0.8364 - accuracy: 0.7027 - val_loss: 0.7892 - val_accuracy: 0.7180\n",
      "Epoch 29/42\n",
      "110/110 [==============================] - 13s 115ms/step - loss: 0.8302 - accuracy: 0.7050 - val_loss: 0.7612 - val_accuracy: 0.7063\n",
      "Epoch 30/42\n",
      "110/110 [==============================] - 12s 111ms/step - loss: 0.8413 - accuracy: 0.6987 - val_loss: 0.7714 - val_accuracy: 0.7197\n",
      "Epoch 31/42\n",
      "110/110 [==============================] - 12s 110ms/step - loss: 0.8137 - accuracy: 0.7147 - val_loss: 0.7755 - val_accuracy: 0.7200\n",
      "Epoch 32/42\n",
      "110/110 [==============================] - 12s 113ms/step - loss: 0.8213 - accuracy: 0.7110 - val_loss: 0.7457 - val_accuracy: 0.7360\n",
      "Epoch 33/42\n",
      "110/110 [==============================] - 13s 121ms/step - loss: 0.8026 - accuracy: 0.7164 - val_loss: 0.7141 - val_accuracy: 0.7487\n",
      "Epoch 34/42\n",
      "110/110 [==============================] - 13s 117ms/step - loss: 0.8293 - accuracy: 0.7033 - val_loss: 0.7349 - val_accuracy: 0.7380\n",
      "Epoch 35/42\n",
      "110/110 [==============================] - 13s 118ms/step - loss: 0.8186 - accuracy: 0.7069 - val_loss: 0.7300 - val_accuracy: 0.7487\n",
      "Epoch 36/42\n",
      "110/110 [==============================] - 12s 110ms/step - loss: 0.8161 - accuracy: 0.7116 - val_loss: 0.7412 - val_accuracy: 0.7450\n",
      "Epoch 37/42\n",
      "110/110 [==============================] - 12s 110ms/step - loss: 0.8097 - accuracy: 0.7118 - val_loss: 0.7548 - val_accuracy: 0.7333\n",
      "Epoch 38/42\n",
      "110/110 [==============================] - 13s 117ms/step - loss: 0.7854 - accuracy: 0.7256 - val_loss: 0.6895 - val_accuracy: 0.7593\n",
      "Epoch 39/42\n",
      "110/110 [==============================] - 13s 114ms/step - loss: 0.7967 - accuracy: 0.7188 - val_loss: 0.7012 - val_accuracy: 0.7487\n",
      "Epoch 40/42\n",
      "110/110 [==============================] - 13s 115ms/step - loss: 0.7699 - accuracy: 0.7289 - val_loss: 0.6918 - val_accuracy: 0.7570\n",
      "Epoch 41/42\n",
      "110/110 [==============================] - 12s 110ms/step - loss: 0.7729 - accuracy: 0.7257 - val_loss: 0.6706 - val_accuracy: 0.7597\n",
      "Epoch 42/42\n",
      "110/110 [==============================] - 12s 110ms/step - loss: 0.7736 - accuracy: 0.7255 - val_loss: 0.7091 - val_accuracy: 0.7530\n"
     ]
    },
    {
     "data": {
      "text/plain": [
       "<tensorflow.python.keras.callbacks.History at 0x1b16aec1670>"
      ]
     },
     "execution_count": 60,
     "metadata": {},
     "output_type": "execute_result"
    }
   ],
   "source": [
    "model2.fit(datagen.flow(x,label,batch_size=128,shuffle=True),batch_size=128,epochs=42,verbose=True,shuffle=True,validation_data=(datagen.flow(x_test,label_test,batch_size=128,shuffle=True)))"
   ]
  },
  {
   "cell_type": "code",
   "execution_count": 61,
   "metadata": {},
   "outputs": [],
   "source": [
    "history=model2.history.history"
   ]
  },
  {
   "cell_type": "code",
   "execution_count": 62,
   "metadata": {},
   "outputs": [
    {
     "data": {
      "text/plain": [
       "dict_keys(['loss', 'accuracy', 'val_loss', 'val_accuracy'])"
      ]
     },
     "execution_count": 62,
     "metadata": {},
     "output_type": "execute_result"
    }
   ],
   "source": [
    "history.keys()"
   ]
  },
  {
   "cell_type": "code",
   "execution_count": 63,
   "metadata": {},
   "outputs": [
    {
     "data": {
      "text/plain": [
       "<matplotlib.legend.Legend at 0x1b273858cd0>"
      ]
     },
     "execution_count": 63,
     "metadata": {},
     "output_type": "execute_result"
    },
    {
     "data": {
      "image/png": "[encoded data removed]",
      "text/plain": [
       "<Figure size 432x288 with 1 Axes>"
      ]
     },
     "metadata": {
      "needs_background": "light"
     },
     "output_type": "display_data"
    }
   ],
   "source": [
    "val_loss=history[\"val_loss\"]\n",
    "val_accuracy=history[\"val_accuracy\"]\n",
    "loss=history[\"loss\"]\n",
    "accuracy=history[\"accuracy\"]\n",
    "plt.plot(accuracy,label=\"loss\")\n",
    "\n",
    "plt.plot(val_accuracy,label=\"val_loss\")\n",
    "plt.legend()"
   ]
  },
  {
   "cell_type": "code",
   "execution_count": 64,
   "metadata": {},
   "outputs": [
    {
     "name": "stderr",
     "output_type": "stream",
     "text": [
      "100%|█████████████████████████████████████████████████████████████████████████████| 3000/3000 [00:04<00:00, 686.03it/s]\n"
     ]
    }
   ],
   "source": [
    "def loadImgTest(path):\n",
    "    x=[]\n",
    "        \n",
    "    for i in tqdm(range(len(path))):\n",
    "        path1=\".\\\\\"+str(path[i])\n",
    "        \n",
    "        img=cv2.imread(path1)\n",
    "        \n",
    "        img=cv2.cvtColor(img,cv2.COLOR_BGR2GRAY)\n",
    "        img=cv2.resize(img,(100,100))\n",
    "        img=img/255\n",
    "        x.append(img)\n",
    "    x=np.array(x).reshape(-1,100,100,1)\n",
    "    return x\n",
    "x=loadImgTest(imgPath(dir2))\n"
   ]
  },
  {
   "cell_type": "code",
   "execution_count": 69,
   "metadata": {},
   "outputs": [],
   "source": [
    "def urlImage():\n",
    "    from PIL import Image\n",
    "    import requests\n",
    "    from io import BytesIO\n",
    "\n",
    "    response = requests.get(\"https://www.chicago.gov/content/dam/city/depts/bldgs/icons/downtown.png\")\n",
    "    img = Image.open(BytesIO(response.content))\n",
    "    img=np.array(img)\n",
    "    img=cv2.resize(img,(200,200))\n",
    "    img=cv2.cvtColor(img,cv2.COLOR_BGR2GRAY)\n",
    "    img=img/255\n",
    "    img=np.array(img).reshape(-1,200,200,1)\n",
    "    return img\n",
    "    \n",
    "\n",
    "test=urlImage()\n"
   ]
  },
  {
   "cell_type": "code",
   "execution_count": 79,
   "metadata": {},
   "outputs": [
    {
     "name": "stdout",
     "output_type": "stream",
     "text": [
      "12/12 [==============================] - 0s 22ms/step\n"
     ]
    }
   ],
   "source": [
    "pred=model2.predict(x,verbose=1,batch_size=256)\n"
   ]
  },
  {
   "cell_type": "code",
   "execution_count": 83,
   "metadata": {},
   "outputs": [
    {
     "data": {
      "text/plain": [
       "Text(0.5, 1.0, 'buildings')"
      ]
     },
     "execution_count": 83,
     "metadata": {},
     "output_type": "execute_result"
    },
    {
     "data": {
      "image/png": "[encoded data removed]",
      "text/plain": [
       "<Figure size 432x288 with 1 Axes>"
      ]
     },
     "metadata": {
      "needs_background": "light"
     },
     "output_type": "display_data"
    }
   ],
   "source": [
    "\n",
    "fig,ax=plt.subplots()\n",
    "plt.imshow(x[199],cmap=\"gray\")\n",
    "plt.title(label_dict1[pred[199].argmax()])\n"
   ]
  },
  {
   "cell_type": "code",
   "execution_count": 118,
   "metadata": {},
   "outputs": [
    {
     "name": "stdout",
     "output_type": "stream",
     "text": [
      "24/24 [==============================] - 2s 92ms/step\n"
     ]
    }
   ],
   "source": [
    "pred2=model2.predict(datagen.flow(x_test,shuffle=False,batch_size=128,seed=42),verbose=1)"
   ]
  },
  {
   "cell_type": "code",
   "execution_count": 123,
   "metadata": {},
   "outputs": [
    {
     "name": "stderr",
     "output_type": "stream",
     "text": [
      "100%|██████████████████████████████████████████████████████████████████████████| 3000/3000 [00:00<00:00, 499917.04it/s]\n"
     ]
    }
   ],
   "source": [
    "preds=[]\n",
    "y_label=[]\n",
    "for i in tqdm(range(len(pred2))):\n",
    "    preds.append(pred2[i].argmax())\n",
    "    y_label.append(label_test[i].argmax())    "
   ]
  },
  {
   "cell_type": "code",
   "execution_count": 126,
   "metadata": {},
   "outputs": [
    {
     "data": {
      "text/plain": [
       "array([[219,  19,  25,  14,  56, 104],\n",
       "       [102, 287,   7,   3,  22,  53],\n",
       "       [ 61,  25, 194,  46, 174,  53],\n",
       "       [ 40,  49, 119, 127, 136,  54],\n",
       "       [ 61,  22,  65,  43, 270,  49],\n",
       "       [228,  19,  17,   9,  52, 176]], dtype=int64)"
      ]
     },
     "execution_count": 126,
     "metadata": {},
     "output_type": "execute_result"
    }
   ],
   "source": [
    "from sklearn.metrics import confusion_matrix as cm\n",
    "cm(y_label,preds)"
   ]
  },
  {
   "cell_type": "code",
   "execution_count": null,
   "metadata": {},
   "outputs": [],
   "source": []
  }
 ],
 "metadata": {
  "kernelspec": {
   "display_name": "Python 3",
   "language": "python",
   "name": "python3"
  },
  "language_info": {
   "codemirror_mode": {
    "name": "ipython",
    "version": 3
   },
   "file_extension": ".py",
   "mimetype": "text/x-python",
   "name": "python",
   "nbconvert_exporter": "python",
   "pygments_lexer": "ipython3",
   "version": "3.8.5"
  }
 },
 "nbformat": 4,
 "nbformat_minor": 4
}
